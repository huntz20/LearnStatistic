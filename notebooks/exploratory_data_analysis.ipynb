{
 "cells": [
  {
   "cell_type": "markdown",
   "source": [
    "# Exploratory Data Analysis"
   ],
   "metadata": {
    "collapsed": false
   }
  },
  {
   "cell_type": "markdown",
   "source": [
    "## Anecdotal Evidence\n",
    "\n",
    "Report that base on data that is unpublished and usually personal in casual conversation\n",
    "\n",
    "anecdotal evidence usually fail because:\n",
    "\n",
    "- Small number of observation\n",
    "- Selection bias\n",
    "- Confirmation bias\n",
    "- Inaccuracy"
   ],
   "metadata": {
    "collapsed": false,
    "pycharm": {
     "name": "#%% md\n"
    }
   }
  },
  {
   "cell_type": "markdown",
   "source": [
    "## Statical Approach\n",
    "Tool to do statistical analysis\n",
    "\n",
    "\n",
    "### Data Collection\n",
    "Use survey data or data get collecting from logs and to generate valid knowledge\n",
    "\n",
    "### Descriptive Statistic\n",
    "Summarize information from data and evaluate how we visualize data\n"
   ],
   "metadata": {
    "collapsed": false,
    "pycharm": {
     "name": "#%% md\n"
    }
   }
  }
 ],
 "metadata": {
  "kernelspec": {
   "display_name": "Python 3",
   "language": "python",
   "name": "python3"
  },
  "language_info": {
   "codemirror_mode": {
    "name": "ipython",
    "version": 2
   },
   "file_extension": ".py",
   "mimetype": "text/x-python",
   "name": "python",
   "nbconvert_exporter": "python",
   "pygments_lexer": "ipython2",
   "version": "2.7.6"
  }
 },
 "nbformat": 4,
 "nbformat_minor": 0
}